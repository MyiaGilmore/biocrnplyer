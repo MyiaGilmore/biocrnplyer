{
 "cells": [
  {
   "cell_type": "markdown",
   "metadata": {},
   "source": [
    "## Prior distributions in bioscrape inference"
   ]
  },
  {
   "cell_type": "markdown",
   "metadata": {},
   "source": [
    "Following prior distributions are built-in into bioscrape inference:\n",
    "\n",
    "1. Uniform distribution: A uniform distribution prior sets an upper and lower bound for a parameter as its prior distribution. \n",
    "2. Gaussian distribution\n",
    "3. Log-Gaussian distribution\n",
    "4. Exponential distribution\n",
    "5. Beta distribution \n",
    "6. Log-uniform distribution\n",
    "7. Gamma distribution\n",
    "8. Custom function"
   ]
  },
  {
   "cell_type": "markdown",
   "metadata": {},
   "source": [
    " Refer to the following link for more information on how to write prior distributions while working on parameter inference:https://github.com/biocircuits/bioscrape/wiki/Parameter-Inference"
   ]
  },
  {
   "cell_type": "markdown",
   "metadata": {},
   "source": [
    "## Custom prior example:"
   ]
  },
  {
   "cell_type": "code",
   "execution_count": null,
   "metadata": {},
   "outputs": [],
   "source": [
    "def my_own_custom_prior(param_name, param_value):\n",
    "    '''\n",
    "    Returns log-probability\n",
    "    '''\n",
    "    # sanity check\n",
    "    if param_value < 0 :\n",
    "        return np.Inf\n",
    "    # calculate probability p\n",
    "    \n",
    "    return p"
   ]
  }
 ],
 "metadata": {
  "kernelspec": {
   "display_name": "Python 3",
   "language": "python",
   "name": "python3"
  },
  "language_info": {
   "codemirror_mode": {
    "name": "ipython",
    "version": 3
   },
   "file_extension": ".py",
   "mimetype": "text/x-python",
   "name": "python",
   "nbconvert_exporter": "python",
   "pygments_lexer": "ipython3",
   "version": "3.7.4"
  }
 },
 "nbformat": 4,
 "nbformat_minor": 2
}
