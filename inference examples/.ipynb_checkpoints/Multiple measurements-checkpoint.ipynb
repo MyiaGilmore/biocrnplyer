{
 "cells": [
  {
   "cell_type": "code",
   "execution_count": null,
   "metadata": {},
   "outputs": [],
   "source": [
    "%matplotlib inline\n",
    "import bioscrape as bs\n",
    "from bioscrape.types import Model\n",
    "from bioscrape.simulator import py_simulate_model\n",
    "\n",
    "import numpy as np\n",
    "import pylab as plt\n",
    "import pandas as pd\n",
    "species = ['I','X', 'Y']\n",
    "reactions = [(['X'], [], 'massaction', {'k':'d1'}), \n",
    "             ([], ['X'], 'hillpositive', {'s1':'I', 'k':'k1', 'K':'KR', 'n':2}),\n",
    "             (['X'],['Y'],'massaction', {'k':'k2'})]\n",
    "k1 = 50.0\n",
    "d1 = 0.5\n",
    "k2 = 10\n",
    "params = [('k1', k1), ('d1', d1), ('KR', 20), ('k2',k2)]\n",
    "initial_condition = {'X':0, 'I':0}\n",
    "M = Model(species = species, reactions = reactions, parameters = params, \n",
    "          initial_condition_dict = initial_condition)"
   ]
  },
  {
   "cell_type": "code",
   "execution_count": null,
   "metadata": {},
   "outputs": [],
   "source": [
    "num_trajectories = 4 # each with different initial condition\n",
    "initial_condition_list = [{'I':5},{'I':10},{'I':15},{'I':20}] \n",
    "timepoints = np.linspace(0,5,100)\n",
    "result_list = []\n",
    "for init_cond in initial_condition_list:\n",
    "    M.set_species(init_cond)\n",
    "    result = py_simulate_model(timepoints, Model = M)\n",
    "    result_list.append(result)\n",
    "    plt.plot(timepoints, result['X'], label = '[X], I =' + str(list(init_cond.values())[0]))\n",
    "    plt.plot(timepoints, result['Y'], label = '[Y}, I =' + str(list(init_cond.values())[0]))\n",
    "plt.xlabel('Time')\n",
    "plt.ylabel('Species Measurements')\n",
    "plt.legend()\n",
    "plt.show()"
   ]
  },
  {
   "cell_type": "code",
   "execution_count": null,
   "metadata": {},
   "outputs": [],
   "source": [
    "\n",
    "exp_data = pd.DataFrame()\n",
    "exp_data['timepoints'] = timepoints\n",
    "for i in range(num_trajectories):\n",
    "    exp_data['X' + str(i)] = result_list[i]['X'] + np.random.normal(5, 1, size = np.shape(result['X']))\n",
    "    exp_data['Y' + str(i)] = result_list[i]['Y'] + np.random.normal(5, 1, size = np.shape(result['Y']))\n",
    "    plt.plot(timepoints, exp_data['X' + str(i)], 'r', alpha = 0.3)\n",
    "    plt.plot(timepoints, exp_data['Y' + str(i)], 'r', alpha = 0.3)\n",
    "    plt.plot(timepoints, result_list[i]['X'], 'k', linewidth = 3)\n",
    "    plt.plot(timepoints, result_list[i]['Y'], 'k', linewidth = 3)\n",
    "plt.xlabel('Time')\n",
    "plt.ylabel('Species (Data and Simulation)')\n",
    "plt.show()\n"
   ]
  },
  {
   "cell_type": "code",
   "execution_count": null,
   "metadata": {},
   "outputs": [],
   "source": [
    "exp_data.to_csv('multiple_measurements.csv')\n",
    "exp_data"
   ]
  },
  {
   "cell_type": "code",
   "execution_count": null,
   "metadata": {},
   "outputs": [],
   "source": [
    "exp_data = []\n",
    "for i in range(num_trajectories):\n",
    "    df = pd.read_csv('multiple_measurements.csv', usecols = ['timepoints', 'X'+str(i),'Y'+str(i)])\n",
    "    df.columns = ['timepoints', 'X', 'Y']\n",
    "    exp_data.append(df)"
   ]
  },
  {
   "cell_type": "code",
   "execution_count": null,
   "metadata": {},
   "outputs": [],
   "source": [
    "exp_data[1]"
   ]
  },
  {
   "cell_type": "code",
   "execution_count": null,
   "metadata": {},
   "outputs": [],
   "source": [
    "from bioscrape.inference import py_inference\n",
    "prior = {'d1' : ['uniform', 0.1, 10], 'k1' : ['uniform',0,100], 'KR' : ['uniform',0,100], 'k2':['uniform', 0, 100]}\n",
    "\n",
    "sampler, pid = py_inference(Model = M, exp_data = exp_data[0], measurements = ['X','Y'], time_column = ['timepoints'],\n",
    "                            nwalkers = 100, init_seed = 0.15, nsteps = 10000, sim_type = 'deterministic',\n",
    "                            params_to_estimate = ['d1','k1','KR', 'k2'], prior = prior, debug = True)\n"
   ]
  },
  {
   "cell_type": "code",
   "execution_count": null,
   "metadata": {},
   "outputs": [],
   "source": []
  }
 ],
 "metadata": {
  "kernelspec": {
   "display_name": "Python 3",
   "language": "python",
   "name": "python3"
  },
  "language_info": {
   "codemirror_mode": {
    "name": "ipython",
    "version": 3
   },
   "file_extension": ".py",
   "mimetype": "text/x-python",
   "name": "python",
   "nbconvert_exporter": "python",
   "pygments_lexer": "ipython3",
   "version": "3.7.3"
  }
 },
 "nbformat": 4,
 "nbformat_minor": 2
}
